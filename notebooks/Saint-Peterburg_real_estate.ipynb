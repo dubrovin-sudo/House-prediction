{
 "cells": [
  {
   "cell_type": "code",
   "execution_count": 11,
   "metadata": {
    "collapsed": true,
    "pycharm": {
     "name": "#%%\n"
    }
   },
   "outputs": [],
   "source": [
    "import os\n",
    "import kaggle\n",
    "import zipfile\n",
    "import requests\n",
    "import numpy as np\n",
    "import pandas as pd\n",
    "\n",
    "import warnings\n",
    "\n",
    "warnings.filterwarnings('ignore')"
   ]
  },
  {
   "cell_type": "markdown",
   "source": [
    "# Constants"
   ],
   "metadata": {
    "collapsed": false,
    "pycharm": {
     "name": "#%% md\n"
    }
   }
  },
  {
   "cell_type": "code",
   "execution_count": null,
   "outputs": [],
   "source": [
    "MIN_AREA = 20  # Outlier range for floor area\n",
    "MAX_AREA = 200\n",
    "\n",
    "MIN_KITCHEN = 6  # Outlier range for kitchen area\n",
    "MAX_KITCHEN = 30\n",
    "\n",
    "MIN_PRICE = 1_500_000  # Outlier range for price\n",
    "MAX_PRICE = 50_000_000\n",
    "\n",
    "MIN_SQM_PRICE = 75_000  # Outlier range for price per sq. meter\n",
    "MAX_SQM_PRICE = 250_000\n",
    "\n",
    "TEST_SIZE = 0.1\n",
    "\n",
    "# Features to use in Nearest Neighbours model.\n",
    "FEATURES = ['geo_lat', 'geo_lon', 'building_type', 'level', 'levels',\n",
    "            'area', 'kitchen_area', 'object_type', 'year', 'month',\n",
    "            'level_to_levels', 'area_to_rooms']"
   ],
   "metadata": {
    "collapsed": false,
    "pycharm": {
     "name": "#%%\n"
    }
   }
  },
  {
   "cell_type": "code",
   "execution_count": null,
   "outputs": [],
   "source": [
    "os.chdir(os.path.dirname(os.getcwd()))"
   ],
   "metadata": {
    "collapsed": false,
    "pycharm": {
     "name": "#%%\n"
    }
   }
  },
  {
   "cell_type": "code",
   "execution_count": null,
   "outputs": [],
   "source": [
    "directory = f\"{os.getcwd()}/data\"\n",
    "print(directory)"
   ],
   "metadata": {
    "collapsed": false,
    "pycharm": {
     "name": "#%%\n"
    }
   }
  },
  {
   "cell_type": "markdown",
   "source": [
    "# Get raw datasets"
   ],
   "metadata": {
    "collapsed": false,
    "pycharm": {
     "name": "#%% md\n"
    }
   }
  },
  {
   "cell_type": "code",
   "execution_count": null,
   "outputs": [],
   "source": [
    "from src.data import make_datasets"
   ],
   "metadata": {
    "collapsed": false,
    "pycharm": {
     "name": "#%%\n"
    }
   }
  },
  {
   "cell_type": "code",
   "execution_count": null,
   "outputs": [],
   "source": [
    "make_datasets"
   ],
   "metadata": {
    "collapsed": false,
    "pycharm": {
     "name": "#%%\n"
    }
   }
  },
  {
   "cell_type": "markdown",
   "source": [
    "# Get interim datasets"
   ],
   "metadata": {
    "collapsed": false,
    "pycharm": {
     "name": "#%% md\n"
    }
   }
  },
  {
   "cell_type": "code",
   "execution_count": null,
   "outputs": [],
   "source": [
    "def get_subways(path: str) -> pd.DataFrame:\n",
    "    \"\"\"\n",
    "    Function create a DataFrame with metro stations' data\n",
    "    :param path:\n",
    "    :return df_subway:\n",
    "    \"\"\"\n",
    "    if os.path.isfile(f\"{path}/external/spb_subways.csv\"):\n",
    "        print(f\"You already have the spb_subways dataset!\")\n",
    "        df_subway = pd.read_csv(f\"{path}/external/spb_subways.csv\")\n",
    "        print(df_subway.head(5))\n",
    "\n",
    "    else:\n",
    "        overpass_url = \"https://maps.mail.ru/osm/tools/overpass/api//interpreter\"\n",
    "        overpass_query = \"\"\"\n",
    "        [out:json];\n",
    "        area[\"ISO3166-2\"=\"RU-SPE\"][admin_level=4];\n",
    "        (node[\"station\"=\"subway\"](area);\n",
    "         way[\"station\"=\"subway\"](area);\n",
    "         rel[\"station\"=\"subway\"](area);\n",
    "        );\n",
    "        out center;\n",
    "        \"\"\"\n",
    "        response = requests.get(overpass_url, params={\"data\": overpass_query})\n",
    "        data = response.json()\n",
    "\n",
    "        df_subway = pd.DataFrame(columns=[\"StationName\", \"lat\", \"lon\"])\n",
    "\n",
    "        for i, element in enumerate(data[\"elements\"]):\n",
    "\n",
    "            if element[\"type\"] == \"node\":\n",
    "\n",
    "                data = {\n",
    "                    \"StationName\": [element[\"tags\"][\"name\"]],\n",
    "                    \"lat\": [element[\"lat\"]],\n",
    "                    \"lon\": [element[\"lon\"]],\n",
    "                }\n",
    "\n",
    "                df_subway = pd.concat(\n",
    "                    [df_subway, pd.DataFrame(data=data)], axis=0, ignore_index=True\n",
    "                )\n",
    "        df_subway.to_csv(f\"{path}/external/spb_subways.csv\", index=False)\n",
    "        return df_subway"
   ],
   "metadata": {
    "collapsed": false,
    "pycharm": {
     "name": "#%%\n"
    }
   }
  },
  {
   "cell_type": "code",
   "execution_count": null,
   "outputs": [],
   "source": [
    "get_subways(directory)"
   ],
   "metadata": {
    "collapsed": false,
    "pycharm": {
     "name": "#%%\n"
    }
   }
  },
  {
   "cell_type": "markdown",
   "source": [
    "# Clean data"
   ],
   "metadata": {
    "collapsed": false,
    "pycharm": {
     "name": "#%% md\n"
    }
   }
  },
  {
   "cell_type": "code",
   "execution_count": null,
   "outputs": [],
   "source": [
    "df = pd.read_csv(f\"{directory}/raw/df_spb.csv\")\n",
    "df.head(5)"
   ],
   "metadata": {
    "collapsed": false,
    "pycharm": {
     "name": "#%%\n"
    }
   }
  },
  {
   "cell_type": "markdown",
   "source": [
    "# Get raw datasets"
   ],
   "metadata": {
    "collapsed": false,
    "pycharm": {
     "name": "#%% md\n"
    }
   }
  },
  {
   "cell_type": "code",
   "execution_count": 15,
   "outputs": [],
   "source": [
    "from src.data import make_datasets"
   ],
   "metadata": {
    "collapsed": false,
    "pycharm": {
     "name": "#%%\n"
    }
   }
  },
  {
   "cell_type": "code",
   "execution_count": 16,
   "outputs": [
    {
     "data": {
      "text/plain": "<module 'src.data.make_datasets' from '/media/jayokocha/7ac94045-6379-4189-aecc-24cea88b8aa5/aleksandr/PycharmProjects/house-prediction/src/data/make_datasets.py'>"
     },
     "execution_count": 16,
     "metadata": {},
     "output_type": "execute_result"
    }
   ],
   "source": [
    "make_datasets"
   ],
   "metadata": {
    "collapsed": false,
    "pycharm": {
     "name": "#%%\n"
    }
   }
  },
  {
   "cell_type": "markdown",
   "source": [
    "# Get interim datasets"
   ],
   "metadata": {
    "collapsed": false,
    "pycharm": {
     "name": "#%% md\n"
    }
   }
  },
  {
   "cell_type": "code",
   "execution_count": 7,
   "outputs": [],
   "source": [
    "def get_subways(path: str) -> pd.DataFrame:\n",
    "    \"\"\"\n",
    "    Function create a DataFrame with metro stations' data\n",
    "    :param path:\n",
    "    :return df_subway:\n",
    "    \"\"\"\n",
    "    if os.path.isfile(f\"{path}/external/spb_subways.csv\"):\n",
    "        print(f\"You already have the spb_subways dataset!\")\n",
    "        df_subway = pd.read_csv(f\"{path}/external/spb_subways.csv\")\n",
    "        print(df_subway.head(5))\n",
    "\n",
    "    else:\n",
    "        overpass_url = \"https://maps.mail.ru/osm/tools/overpass/api//interpreter\"\n",
    "        overpass_query = \"\"\"\n",
    "        [out:json];\n",
    "        area[\"ISO3166-2\"=\"RU-SPE\"][admin_level=4];\n",
    "        (node[\"station\"=\"subway\"](area);\n",
    "         way[\"station\"=\"subway\"](area);\n",
    "         rel[\"station\"=\"subway\"](area);\n",
    "        );\n",
    "        out center;\n",
    "        \"\"\"\n",
    "        response = requests.get(overpass_url, params={\"data\": overpass_query})\n",
    "        data = response.json()\n",
    "\n",
    "        df_subway = pd.DataFrame(columns=[\"StationName\", \"lat\", \"lon\"])\n",
    "\n",
    "        for i, element in enumerate(data[\"elements\"]):\n",
    "\n",
    "            if element[\"type\"] == \"node\":\n",
    "\n",
    "                data = {\n",
    "                    \"StationName\": [element[\"tags\"][\"name\"]],\n",
    "                    \"lat\": [element[\"lat\"]],\n",
    "                    \"lon\": [element[\"lon\"]],\n",
    "                }\n",
    "\n",
    "                df_subway = pd.concat(\n",
    "                    [df_subway, pd.DataFrame(data=data)], axis=0, ignore_index=True\n",
    "                )\n",
    "        df_subway.to_csv(f\"{path}/external/spb_subways.csv\", index=False)\n",
    "        return df_subway"
   ],
   "metadata": {
    "collapsed": false,
    "pycharm": {
     "name": "#%%\n"
    }
   }
  },
  {
   "cell_type": "code",
   "execution_count": 8,
   "outputs": [
    {
     "name": "stdout",
     "output_type": "stream",
     "text": [
      "You already have the spb_subways dataset!\n",
      "     StationName        lat        lon\n",
      "0  Петроградская  59.964915  30.312830\n",
      "1    Горьковская  59.955156  30.319457\n",
      "2     Спортивная  59.950128  30.289065\n",
      "3     Чкаловская  59.959334  30.292420\n",
      "4       Удельная  60.017931  30.318159\n"
     ]
    }
   ],
   "source": [
    "get_subways(directory)"
   ],
   "metadata": {
    "collapsed": false,
    "pycharm": {
     "name": "#%%\n"
    }
   }
  },
  {
   "cell_type": "markdown",
   "source": [
    "# Clean data"
   ],
   "metadata": {
    "collapsed": false,
    "pycharm": {
     "name": "#%% md\n"
    }
   }
  },
  {
   "cell_type": "code",
   "execution_count": 9,
   "outputs": [
    {
     "data": {
      "text/plain": "     price        date      time    geo_lat    geo_lon  region  building_type  \\\n0  6050000  2018-02-19  20:00:21  59.805808  30.376141    2661              1   \n1  3600000  2018-03-04  20:52:38  59.875526  30.395457    2661              1   \n2  3200000  2018-04-10  16:10:12  59.827465  30.201827    2661              1   \n3  6500000  2018-04-23  11:47:58  59.988334  29.786928    2661              3   \n4  6300000  2018-04-28  17:47:24  59.911622  30.284556    2661              3   \n\n   level  levels  rooms  area  kitchen_area  object_type  \n0      8      10      3  82.6          10.8            1  \n1      2       5      1  31.1           6.0            1  \n2      7       9      1  31.0           7.0            1  \n3      3       3      3  89.0          10.0            1  \n4      5       5      2  99.9          14.5            1  ",
      "text/html": "<div>\n<style scoped>\n    .dataframe tbody tr th:only-of-type {\n        vertical-align: middle;\n    }\n\n    .dataframe tbody tr th {\n        vertical-align: top;\n    }\n\n    .dataframe thead th {\n        text-align: right;\n    }\n</style>\n<table border=\"1\" class=\"dataframe\">\n  <thead>\n    <tr style=\"text-align: right;\">\n      <th></th>\n      <th>price</th>\n      <th>date</th>\n      <th>time</th>\n      <th>geo_lat</th>\n      <th>geo_lon</th>\n      <th>region</th>\n      <th>building_type</th>\n      <th>level</th>\n      <th>levels</th>\n      <th>rooms</th>\n      <th>area</th>\n      <th>kitchen_area</th>\n      <th>object_type</th>\n    </tr>\n  </thead>\n  <tbody>\n    <tr>\n      <th>0</th>\n      <td>6050000</td>\n      <td>2018-02-19</td>\n      <td>20:00:21</td>\n      <td>59.805808</td>\n      <td>30.376141</td>\n      <td>2661</td>\n      <td>1</td>\n      <td>8</td>\n      <td>10</td>\n      <td>3</td>\n      <td>82.6</td>\n      <td>10.8</td>\n      <td>1</td>\n    </tr>\n    <tr>\n      <th>1</th>\n      <td>3600000</td>\n      <td>2018-03-04</td>\n      <td>20:52:38</td>\n      <td>59.875526</td>\n      <td>30.395457</td>\n      <td>2661</td>\n      <td>1</td>\n      <td>2</td>\n      <td>5</td>\n      <td>1</td>\n      <td>31.1</td>\n      <td>6.0</td>\n      <td>1</td>\n    </tr>\n    <tr>\n      <th>2</th>\n      <td>3200000</td>\n      <td>2018-04-10</td>\n      <td>16:10:12</td>\n      <td>59.827465</td>\n      <td>30.201827</td>\n      <td>2661</td>\n      <td>1</td>\n      <td>7</td>\n      <td>9</td>\n      <td>1</td>\n      <td>31.0</td>\n      <td>7.0</td>\n      <td>1</td>\n    </tr>\n    <tr>\n      <th>3</th>\n      <td>6500000</td>\n      <td>2018-04-23</td>\n      <td>11:47:58</td>\n      <td>59.988334</td>\n      <td>29.786928</td>\n      <td>2661</td>\n      <td>3</td>\n      <td>3</td>\n      <td>3</td>\n      <td>3</td>\n      <td>89.0</td>\n      <td>10.0</td>\n      <td>1</td>\n    </tr>\n    <tr>\n      <th>4</th>\n      <td>6300000</td>\n      <td>2018-04-28</td>\n      <td>17:47:24</td>\n      <td>59.911622</td>\n      <td>30.284556</td>\n      <td>2661</td>\n      <td>3</td>\n      <td>5</td>\n      <td>5</td>\n      <td>2</td>\n      <td>99.9</td>\n      <td>14.5</td>\n      <td>1</td>\n    </tr>\n  </tbody>\n</table>\n</div>"
     },
     "execution_count": 9,
     "metadata": {},
     "output_type": "execute_result"
    }
   ],
   "source": [
    "df = pd.read_csv(f\"{directory}/raw/df_spb.csv\")\n",
    "df.head(5)"
   ],
   "metadata": {
    "collapsed": false,
    "pycharm": {
     "name": "#%%\n"
    }
   }
  },
  {
   "cell_type": "code",
   "execution_count": 10,
   "outputs": [
    {
     "data": {
      "text/plain": "              price        geo_lat        geo_lon    region  building_type  \\\ncount  4.618200e+05  461820.000000  461820.000000  461820.0  461820.000000   \nmean   8.209775e+06      59.932848      30.319601    2661.0       1.948281   \nstd    1.416036e+07       0.084615       0.120120       0.0       0.954559   \nmin   -1.719935e+09      59.647383      29.509349    2661.0       0.000000   \n25%    4.400000e+06      59.863518      30.256876    2661.0       1.000000   \n50%    5.950000e+06      59.939084      30.324338    2661.0       2.000000   \n75%    8.800000e+06      59.999287      30.397938    2661.0       3.000000   \nmax    1.945383e+09      60.241984      30.711428    2661.0       5.000000   \n\n               level         levels          rooms           area  \\\ncount  461820.000000  461820.000000  461820.000000  461820.000000   \nmean        7.582619      14.336625       1.778953      58.582237   \nstd         5.694418       7.073714       1.124851      42.138205   \nmin         1.000000       1.000000      -2.000000       1.400000   \n25%         3.000000       9.000000       1.000000      37.600000   \n50%         6.000000      13.000000       2.000000      51.000000   \n75%        11.000000      20.000000       2.000000      69.000000   \nmax        35.000000      38.000000       9.000000    7856.000000   \n\n        kitchen_area    object_type  \ncount  461820.000000  461820.000000  \nmean       12.749967       5.271231  \nstd         7.641011       4.946610  \nmin         0.020000       1.000000  \n25%         8.500000       1.000000  \n50%        11.100000       1.000000  \n75%        15.150000      11.000000  \nmax      1272.000000      11.000000  ",
      "text/html": "<div>\n<style scoped>\n    .dataframe tbody tr th:only-of-type {\n        vertical-align: middle;\n    }\n\n    .dataframe tbody tr th {\n        vertical-align: top;\n    }\n\n    .dataframe thead th {\n        text-align: right;\n    }\n</style>\n<table border=\"1\" class=\"dataframe\">\n  <thead>\n    <tr style=\"text-align: right;\">\n      <th></th>\n      <th>price</th>\n      <th>geo_lat</th>\n      <th>geo_lon</th>\n      <th>region</th>\n      <th>building_type</th>\n      <th>level</th>\n      <th>levels</th>\n      <th>rooms</th>\n      <th>area</th>\n      <th>kitchen_area</th>\n      <th>object_type</th>\n    </tr>\n  </thead>\n  <tbody>\n    <tr>\n      <th>count</th>\n      <td>4.618200e+05</td>\n      <td>461820.000000</td>\n      <td>461820.000000</td>\n      <td>461820.0</td>\n      <td>461820.000000</td>\n      <td>461820.000000</td>\n      <td>461820.000000</td>\n      <td>461820.000000</td>\n      <td>461820.000000</td>\n      <td>461820.000000</td>\n      <td>461820.000000</td>\n    </tr>\n    <tr>\n      <th>mean</th>\n      <td>8.209775e+06</td>\n      <td>59.932848</td>\n      <td>30.319601</td>\n      <td>2661.0</td>\n      <td>1.948281</td>\n      <td>7.582619</td>\n      <td>14.336625</td>\n      <td>1.778953</td>\n      <td>58.582237</td>\n      <td>12.749967</td>\n      <td>5.271231</td>\n    </tr>\n    <tr>\n      <th>std</th>\n      <td>1.416036e+07</td>\n      <td>0.084615</td>\n      <td>0.120120</td>\n      <td>0.0</td>\n      <td>0.954559</td>\n      <td>5.694418</td>\n      <td>7.073714</td>\n      <td>1.124851</td>\n      <td>42.138205</td>\n      <td>7.641011</td>\n      <td>4.946610</td>\n    </tr>\n    <tr>\n      <th>min</th>\n      <td>-1.719935e+09</td>\n      <td>59.647383</td>\n      <td>29.509349</td>\n      <td>2661.0</td>\n      <td>0.000000</td>\n      <td>1.000000</td>\n      <td>1.000000</td>\n      <td>-2.000000</td>\n      <td>1.400000</td>\n      <td>0.020000</td>\n      <td>1.000000</td>\n    </tr>\n    <tr>\n      <th>25%</th>\n      <td>4.400000e+06</td>\n      <td>59.863518</td>\n      <td>30.256876</td>\n      <td>2661.0</td>\n      <td>1.000000</td>\n      <td>3.000000</td>\n      <td>9.000000</td>\n      <td>1.000000</td>\n      <td>37.600000</td>\n      <td>8.500000</td>\n      <td>1.000000</td>\n    </tr>\n    <tr>\n      <th>50%</th>\n      <td>5.950000e+06</td>\n      <td>59.939084</td>\n      <td>30.324338</td>\n      <td>2661.0</td>\n      <td>2.000000</td>\n      <td>6.000000</td>\n      <td>13.000000</td>\n      <td>2.000000</td>\n      <td>51.000000</td>\n      <td>11.100000</td>\n      <td>1.000000</td>\n    </tr>\n    <tr>\n      <th>75%</th>\n      <td>8.800000e+06</td>\n      <td>59.999287</td>\n      <td>30.397938</td>\n      <td>2661.0</td>\n      <td>3.000000</td>\n      <td>11.000000</td>\n      <td>20.000000</td>\n      <td>2.000000</td>\n      <td>69.000000</td>\n      <td>15.150000</td>\n      <td>11.000000</td>\n    </tr>\n    <tr>\n      <th>max</th>\n      <td>1.945383e+09</td>\n      <td>60.241984</td>\n      <td>30.711428</td>\n      <td>2661.0</td>\n      <td>5.000000</td>\n      <td>35.000000</td>\n      <td>38.000000</td>\n      <td>9.000000</td>\n      <td>7856.000000</td>\n      <td>1272.000000</td>\n      <td>11.000000</td>\n    </tr>\n  </tbody>\n</table>\n</div>"
     },
     "execution_count": 10,
     "metadata": {},
     "output_type": "execute_result"
    }
   ],
   "source": [
    "df.describe()"
   ],
   "metadata": {
    "collapsed": false,
    "pycharm": {
     "name": "#%%\n"
    }
   }
  },
  {
   "cell_type": "code",
   "execution_count": 11,
   "outputs": [
    {
     "name": "stdout",
     "output_type": "stream",
     "text": [
      "<class 'pandas.core.frame.DataFrame'>\n",
      "RangeIndex: 461820 entries, 0 to 461819\n",
      "Data columns (total 13 columns):\n",
      " #   Column         Non-Null Count   Dtype  \n",
      "---  ------         --------------   -----  \n",
      " 0   price          461820 non-null  int64  \n",
      " 1   date           461820 non-null  object \n",
      " 2   time           461820 non-null  object \n",
      " 3   geo_lat        461820 non-null  float64\n",
      " 4   geo_lon        461820 non-null  float64\n",
      " 5   region         461820 non-null  int64  \n",
      " 6   building_type  461820 non-null  int64  \n",
      " 7   level          461820 non-null  int64  \n",
      " 8   levels         461820 non-null  int64  \n",
      " 9   rooms          461820 non-null  int64  \n",
      " 10  area           461820 non-null  float64\n",
      " 11  kitchen_area   461820 non-null  float64\n",
      " 12  object_type    461820 non-null  int64  \n",
      "dtypes: float64(4), int64(7), object(2)\n",
      "memory usage: 45.8+ MB\n"
     ]
    }
   ],
   "source": [
    "df.info()"
   ],
   "metadata": {
    "collapsed": false,
    "pycharm": {
     "name": "#%%\n"
    }
   }
  },
  {
   "cell_type": "code",
   "execution_count": 12,
   "outputs": [],
   "source": [
    "def clean_data(df: pd.DataFrame) -> pd.DataFrame:\n",
    "    \"\"\"\n",
    "    Remove outliers and updates DataFrame adding temporal features\n",
    "    and ratios for \"area\" and \"level\" parameters.\n",
    "    :param df:\n",
    "    :return:\n",
    "    \"\"\"\n",
    "    # Fix negative values\n",
    "    df['rooms'] = df['rooms'].apply(lambda x: 0 if x < 0 else x)\n",
    "    df['price'] = df['price'].abs()\n",
    "    # Drop prices and area outliers\n",
    "    df = df[(df['area'] <= MAX_AREA) & (df['area'] >= MIN_AREA)]\n",
    "    df = df[(df['price'] <= MAX_PRICE) & (df['price'] >= MIN_PRICE)]\n",
    "    # Drop outliers based on price per square meter\n",
    "    df['sqm_price'] = df['price']/df['area']\n",
    "    df = df[(df['sqm_price'] >= MIN_SQM_PRICE) & (df['sqm_price'] <= MAX_SQM_PRICE)]\n",
    "    # Fix kitchen area\n",
    "    df.loc[(df['kitchen_area'] >= MAX_KITCHEN) | (df['area'] <= MIN_AREA), 'kitchen_area'] = 0\n",
    "\n",
    "    # Delete region and change data format\n",
    "    df['date'] = pd.to_datetime(df['date'])\n",
    "    df['year'] = df['date'].dt.year\n",
    "    df['month'] = df['date'].dt.month\n",
    "    df.drop(['date', 'time', 'region'], axis=1, inplace=True)\n",
    "    # Apartment floor in relation to total number of floors\n",
    "    df['levels_to_levels'] = df['level']/df['levels']\n",
    "    df['area_to_rooms'] = (df['area']/df['rooms']).abs()\n",
    "    # Fix division by zero.\n",
    "    df.loc[df['area_to_rooms'] == np.inf, 'area_to_rooms'] = \\\n",
    "        df.loc[df['area_to_rooms'] == np.inf, 'area']\n",
    "\n",
    "    return df"
   ],
   "metadata": {
    "collapsed": false,
    "pycharm": {
     "name": "#%%\n"
    }
   }
  },
  {
   "cell_type": "code",
   "execution_count": 13,
   "outputs": [],
   "source": [
    "df = df.pipe(clean_data)"
   ],
   "metadata": {
    "collapsed": false,
    "pycharm": {
     "name": "#%%\n"
    }
   }
  },
  {
   "cell_type": "code",
   "execution_count": 14,
   "outputs": [
    {
     "data": {
      "text/plain": "     price    geo_lat    geo_lon  building_type  level  levels  rooms  area  \\\n1  3600000  59.875526  30.395457              1      2       5      1  31.1   \n2  3200000  59.827465  30.201827              1      7       9      1  31.0   \n5  7100000  60.011172  30.243795              3      7      12      3  69.0   \n6  8500000  59.849104  30.314112              3     14      14      2  60.0   \n7  3830000  59.981490  30.371730              2      2      17      1  44.9   \n\n   kitchen_area  object_type      sqm_price  year  month  levels_to_levels  \\\n1           6.0            1  115755.627010  2018      3          0.400000   \n2           7.0            1  103225.806452  2018      4          0.777778   \n5          11.0            1  102898.550725  2018      5          0.583333   \n6          11.0            1  141666.666667  2018      5          1.000000   \n7          16.5           11   85300.668151  2018      6          0.117647   \n\n   area_to_rooms  \n1           31.1  \n2           31.0  \n5           23.0  \n6           30.0  \n7           44.9  ",
      "text/html": "<div>\n<style scoped>\n    .dataframe tbody tr th:only-of-type {\n        vertical-align: middle;\n    }\n\n    .dataframe tbody tr th {\n        vertical-align: top;\n    }\n\n    .dataframe thead th {\n        text-align: right;\n    }\n</style>\n<table border=\"1\" class=\"dataframe\">\n  <thead>\n    <tr style=\"text-align: right;\">\n      <th></th>\n      <th>price</th>\n      <th>geo_lat</th>\n      <th>geo_lon</th>\n      <th>building_type</th>\n      <th>level</th>\n      <th>levels</th>\n      <th>rooms</th>\n      <th>area</th>\n      <th>kitchen_area</th>\n      <th>object_type</th>\n      <th>sqm_price</th>\n      <th>year</th>\n      <th>month</th>\n      <th>levels_to_levels</th>\n      <th>area_to_rooms</th>\n    </tr>\n  </thead>\n  <tbody>\n    <tr>\n      <th>1</th>\n      <td>3600000</td>\n      <td>59.875526</td>\n      <td>30.395457</td>\n      <td>1</td>\n      <td>2</td>\n      <td>5</td>\n      <td>1</td>\n      <td>31.1</td>\n      <td>6.0</td>\n      <td>1</td>\n      <td>115755.627010</td>\n      <td>2018</td>\n      <td>3</td>\n      <td>0.400000</td>\n      <td>31.1</td>\n    </tr>\n    <tr>\n      <th>2</th>\n      <td>3200000</td>\n      <td>59.827465</td>\n      <td>30.201827</td>\n      <td>1</td>\n      <td>7</td>\n      <td>9</td>\n      <td>1</td>\n      <td>31.0</td>\n      <td>7.0</td>\n      <td>1</td>\n      <td>103225.806452</td>\n      <td>2018</td>\n      <td>4</td>\n      <td>0.777778</td>\n      <td>31.0</td>\n    </tr>\n    <tr>\n      <th>5</th>\n      <td>7100000</td>\n      <td>60.011172</td>\n      <td>30.243795</td>\n      <td>3</td>\n      <td>7</td>\n      <td>12</td>\n      <td>3</td>\n      <td>69.0</td>\n      <td>11.0</td>\n      <td>1</td>\n      <td>102898.550725</td>\n      <td>2018</td>\n      <td>5</td>\n      <td>0.583333</td>\n      <td>23.0</td>\n    </tr>\n    <tr>\n      <th>6</th>\n      <td>8500000</td>\n      <td>59.849104</td>\n      <td>30.314112</td>\n      <td>3</td>\n      <td>14</td>\n      <td>14</td>\n      <td>2</td>\n      <td>60.0</td>\n      <td>11.0</td>\n      <td>1</td>\n      <td>141666.666667</td>\n      <td>2018</td>\n      <td>5</td>\n      <td>1.000000</td>\n      <td>30.0</td>\n    </tr>\n    <tr>\n      <th>7</th>\n      <td>3830000</td>\n      <td>59.981490</td>\n      <td>30.371730</td>\n      <td>2</td>\n      <td>2</td>\n      <td>17</td>\n      <td>1</td>\n      <td>44.9</td>\n      <td>16.5</td>\n      <td>11</td>\n      <td>85300.668151</td>\n      <td>2018</td>\n      <td>6</td>\n      <td>0.117647</td>\n      <td>44.9</td>\n    </tr>\n  </tbody>\n</table>\n</div>"
     },
     "execution_count": 14,
     "metadata": {},
     "output_type": "execute_result"
    }
   ],
   "source": [
    "df.head(5)"
   ],
   "metadata": {
    "collapsed": false,
    "pycharm": {
     "name": "#%%\n"
    }
   }
  },
  {
   "cell_type": "markdown",
   "source": [
    "# Add features"
   ],
   "metadata": {
    "collapsed": false,
    "pycharm": {
     "name": "#%% md\n"
    }
   }
  },
  {
   "cell_type": "code",
   "execution_count": 15,
   "outputs": [],
   "source": [
    "subway = pd.read_csv(f\"{directory}/external/spb_subways.csv\")"
   ],
   "metadata": {
    "collapsed": false,
    "pycharm": {
     "name": "#%%\n"
    }
   }
  },
  {
   "cell_type": "code",
   "execution_count": 16,
   "outputs": [
    {
     "data": {
      "text/plain": "     StationName        lat        lon\n0  Петроградская  59.964915  30.312830\n1    Горьковская  59.955156  30.319457\n2     Спортивная  59.950128  30.289065\n3     Чкаловская  59.959334  30.292420\n4       Удельная  60.017931  30.318159",
      "text/html": "<div>\n<style scoped>\n    .dataframe tbody tr th:only-of-type {\n        vertical-align: middle;\n    }\n\n    .dataframe tbody tr th {\n        vertical-align: top;\n    }\n\n    .dataframe thead th {\n        text-align: right;\n    }\n</style>\n<table border=\"1\" class=\"dataframe\">\n  <thead>\n    <tr style=\"text-align: right;\">\n      <th></th>\n      <th>StationName</th>\n      <th>lat</th>\n      <th>lon</th>\n    </tr>\n  </thead>\n  <tbody>\n    <tr>\n      <th>0</th>\n      <td>Петроградская</td>\n      <td>59.964915</td>\n      <td>30.312830</td>\n    </tr>\n    <tr>\n      <th>1</th>\n      <td>Горьковская</td>\n      <td>59.955156</td>\n      <td>30.319457</td>\n    </tr>\n    <tr>\n      <th>2</th>\n      <td>Спортивная</td>\n      <td>59.950128</td>\n      <td>30.289065</td>\n    </tr>\n    <tr>\n      <th>3</th>\n      <td>Чкаловская</td>\n      <td>59.959334</td>\n      <td>30.292420</td>\n    </tr>\n    <tr>\n      <th>4</th>\n      <td>Удельная</td>\n      <td>60.017931</td>\n      <td>30.318159</td>\n    </tr>\n  </tbody>\n</table>\n</div>"
     },
     "execution_count": 16,
     "metadata": {},
     "output_type": "execute_result"
    }
   ],
   "source": [
    "subway.head()"
   ],
   "metadata": {
    "collapsed": false,
    "pycharm": {
     "name": "#%%\n"
    }
   }
  },
  {
   "cell_type": "code",
   "execution_count": 16,
   "outputs": [],
   "source": [],
   "metadata": {
    "collapsed": false,
    "pycharm": {
     "name": "#%%\n"
    }
   }
  }
 ],
 "metadata": {
  "kernelspec": {
   "display_name": "Python 3",
   "language": "python",
   "name": "python3"
  },
  "language_info": {
   "codemirror_mode": {
    "name": "ipython",
    "version": 2
   },
   "file_extension": ".py",
   "mimetype": "text/x-python",
   "name": "python",
   "nbconvert_exporter": "python",
   "pygments_lexer": "ipython2",
   "version": "2.7.6"
  }
 },
 "nbformat": 4,
 "nbformat_minor": 0
}